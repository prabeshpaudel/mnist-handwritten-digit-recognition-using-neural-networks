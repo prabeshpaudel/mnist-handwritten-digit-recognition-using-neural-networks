{
 "cells": [
  {
   "cell_type": "code",
   "execution_count": 1,
   "metadata": {},
   "outputs": [],
   "source": [
    "import numpy as np\n",
    "#importing the neural network model\n",
    "from neuralnet import neuralNetwork, sigmoid"
   ]
  },
  {
   "cell_type": "code",
   "execution_count": 2,
   "metadata": {},
   "outputs": [],
   "source": [
    "import matplotlib.pyplot as plt\n",
    "%matplotlib inline"
   ]
  },
  {
   "cell_type": "code",
   "execution_count": 3,
   "metadata": {},
   "outputs": [],
   "source": [
    "#parameters and hyperparameters \n",
    "input_nodes = 784\n",
    "hidden_nodes = 200\n",
    "output_nodes = 10\n",
    "learning_rate = 0.1"
   ]
  },
  {
   "cell_type": "code",
   "execution_count": 4,
   "metadata": {},
   "outputs": [],
   "source": [
    "#create a neural network instance\n",
    "nn_model = neuralNetwork(input_nodes, hidden_nodes, output_nodes, learning_rate)"
   ]
  },
  {
   "cell_type": "code",
   "execution_count": 8,
   "metadata": {},
   "outputs": [],
   "source": [
    "# load the mnist training data CSV file into a list\n",
    "training_data_file = open(\"dataset/mnist_train.csv\", 'r')\n",
    "training_data_list = training_data_file.readlines()\n",
    "training_data_file.close()"
   ]
  },
  {
   "cell_type": "code",
   "execution_count": 11,
   "metadata": {},
   "outputs": [
    {
     "name": "stdout",
     "output_type": "stream",
     "text": [
      "The target value is:  5\n"
     ]
    },
    {
     "data": {
      "image/png": "[encoded data removed]",
      "text/plain": [
       "<Figure size 432x288 with 1 Axes>"
      ]
     },
     "metadata": {
      "needs_background": "light"
     },
     "output_type": "display_data"
    }
   ],
   "source": [
    "#showing a random value from the dataset\n",
    "import random\n",
    "cache = random.randint(0,60000)\n",
    "all_values = training_data_list[cache].split(',')\n",
    "image_array = np.asfarray(all_values[1:]).reshape((28,28))\n",
    "plt.imshow(image_array, cmap = 'Greys', interpolation=None)\n",
    "print(\"The target value is: \" , all_values[0])"
   ]
  },
  {
   "cell_type": "code",
   "execution_count": 12,
   "metadata": {},
   "outputs": [
    {
     "name": "stdout",
     "output_type": "stream",
     "text": [
      "Epoch: 1/10\n",
      "Epoch: 2/10\n",
      "Epoch: 3/10\n",
      "Epoch: 4/10\n",
      "Epoch: 5/10\n",
      "Epoch: 6/10\n",
      "Epoch: 7/10\n",
      "Epoch: 8/10\n",
      "Epoch: 9/10\n",
      "Epoch: 10/10\n"
     ]
    }
   ],
   "source": [
    "# train the neural network\n",
    "# epochs is the number of times the training data set is used for training\n",
    "epochs = 10\n",
    "for e in range(epochs):\n",
    "    print(\"Epoch: \" + str(e+1) + \"/\" + str(epochs))\n",
    "    # go through all records in the training data set \n",
    "    for record in training_data_list:\n",
    "        # split the record by the ',' commas\n",
    "        all_values = record.split(',')\n",
    "        # scale and shift the inputs\n",
    "        inputs = (np.asfarray(all_values[1:]) / 255.0 * 0.99) + 0.01\n",
    "        # create the target output values (all 0.01, except the desired label which is 0.99)\n",
    "        targets = np.zeros(output_nodes) + 0.01\n",
    "        # all_values[0] is the target label for this record \n",
    "        targets[int(all_values[0])] = 0.99\n",
    "        nn_model.train(inputs, targets)\n",
    "        pass\n",
    "    pass"
   ]
  },
  {
   "cell_type": "code",
   "execution_count": 14,
   "metadata": {},
   "outputs": [],
   "source": [
    "# load the mnist test data CSV file into a list \n",
    "test_data_file = open(\"dataset/mnist_test.csv\", 'r') \n",
    "test_data_list = test_data_file.readlines() \n",
    "test_data_file.close()"
   ]
  },
  {
   "cell_type": "code",
   "execution_count": 15,
   "metadata": {},
   "outputs": [],
   "source": [
    "# test the neural network\n",
    "# scorecard for how well the network performs, initially empty \n",
    "scorecard = []\n",
    "# go through all the records in the test data set \n",
    "for record in test_data_list:\n",
    "    # split the record by the ',' commas \n",
    "    all_values = record.split(',')\n",
    "    # correct answer is first value \n",
    "    correct_label = int(all_values[0]) \n",
    "    inputs = (np.asfarray(all_values[1:]) / 255.0 * 0.99) + 0.01 \n",
    "    # query the network\n",
    "    outputs = nn_model.predict(inputs)\n",
    "    # the index of the highest value corresponds to the label \n",
    "    label = np.argmax(outputs)\n",
    "    # append correct or incorrect to list \n",
    "    if (label == correct_label):\n",
    "        # network's answer matches correct answer, add 1 to scorecard\n",
    "        scorecard.append(1) \n",
    "    else:\n",
    "        # network's answer doesn't match correct answer, add 0 to scorecard\n",
    "        scorecard.append(0) \n",
    "        pass\n",
    "    pass"
   ]
  },
  {
   "cell_type": "code",
   "execution_count": 16,
   "metadata": {},
   "outputs": [
    {
     "name": "stdout",
     "output_type": "stream",
     "text": [
      "performance =  0.9729\n"
     ]
    }
   ],
   "source": [
    "# calculate the performance score, the fraction of correct answers \n",
    "scorecard_array = np.asarray(scorecard)\n",
    "print (\"performance = \", scorecard_array.sum() / scorecard_array.size)"
   ]
  },
  {
   "cell_type": "markdown",
   "metadata": {},
   "source": [
    "By:\n",
    "Prabesh Paudel\n",
    "August, 2019"
   ]
  }
 ],
 "metadata": {
  "kernelspec": {
   "display_name": "Python 3",
   "language": "python",
   "name": "python3"
  },
  "language_info": {
   "codemirror_mode": {
    "name": "ipython",
    "version": 3
   },
   "file_extension": ".py",
   "mimetype": "text/x-python",
   "name": "python",
   "nbconvert_exporter": "python",
   "pygments_lexer": "ipython3",
   "version": "3.7.3"
  }
 },
 "nbformat": 4,
 "nbformat_minor": 2
}
